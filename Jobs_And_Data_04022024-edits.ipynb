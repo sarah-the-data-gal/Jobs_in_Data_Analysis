{
 "cells": [
  {
   "cell_type": "code",
   "execution_count": 1,
   "id": "86cf5184-6442-441d-afd2-50353e018d74",
   "metadata": {},
   "outputs": [],
   "source": [
    "import csv as csv \n",
    "import numpy as np\n",
    "import pandas as pd\n",
    "import matplotlib.pyplot as plt"
   ]
  },
  {
   "cell_type": "code",
   "execution_count": 2,
   "id": "b02936c0-290f-48d9-aed3-90cc173eb4af",
   "metadata": {},
   "outputs": [
    {
     "name": "stdout",
     "output_type": "stream",
     "text": [
      "      work_year                 job_title                    job_category  \\\n",
      "0          2023      Data DevOps Engineer                Data Engineering   \n",
      "1          2023            Data Architect  Data Architecture and Modeling   \n",
      "2          2023            Data Architect  Data Architecture and Modeling   \n",
      "3          2023            Data Scientist       Data Science and Research   \n",
      "4          2023            Data Scientist       Data Science and Research   \n",
      "...         ...                       ...                             ...   \n",
      "9350       2021           Data Specialist    Data Management and Strategy   \n",
      "9351       2020            Data Scientist       Data Science and Research   \n",
      "9352       2021  Principal Data Scientist       Data Science and Research   \n",
      "9353       2020            Data Scientist       Data Science and Research   \n",
      "9354       2020     Business Data Analyst                   Data Analysis   \n",
      "\n",
      "     salary_currency  salary  salary_in_usd employee_residence  \\\n",
      "0                EUR   88000          95012            Germany   \n",
      "1                USD  186000         186000      United States   \n",
      "2                USD   81800          81800      United States   \n",
      "3                USD  212000         212000      United States   \n",
      "4                USD   93300          93300      United States   \n",
      "...              ...     ...            ...                ...   \n",
      "9350             USD  165000         165000      United States   \n",
      "9351             USD  412000         412000      United States   \n",
      "9352             USD  151000         151000      United States   \n",
      "9353             USD  105000         105000      United States   \n",
      "9354             USD  100000         100000      United States   \n",
      "\n",
      "     experience_level employment_type work_setting company_location  \\\n",
      "0           Mid-level       Full-time       Hybrid          Germany   \n",
      "1              Senior       Full-time    In-person    United States   \n",
      "2              Senior       Full-time    In-person    United States   \n",
      "3              Senior       Full-time    In-person    United States   \n",
      "4              Senior       Full-time    In-person    United States   \n",
      "...               ...             ...          ...              ...   \n",
      "9350           Senior       Full-time       Remote    United States   \n",
      "9351           Senior       Full-time       Remote    United States   \n",
      "9352        Mid-level       Full-time       Remote    United States   \n",
      "9353      Entry-level       Full-time       Remote    United States   \n",
      "9354      Entry-level        Contract       Remote    United States   \n",
      "\n",
      "     company_size  \n",
      "0               L  \n",
      "1               M  \n",
      "2               M  \n",
      "3               M  \n",
      "4               M  \n",
      "...           ...  \n",
      "9350            L  \n",
      "9351            L  \n",
      "9352            L  \n",
      "9353            S  \n",
      "9354            L  \n",
      "\n",
      "[9355 rows x 12 columns]\n"
     ]
    }
   ],
   "source": [
    "# Read Jobs Data \n",
    "Jobs_Data= pd.read_csv(\"Jobs_in_data.csv\")\n",
    "print(Jobs_Data)"
   ]
  },
  {
   "cell_type": "markdown",
   "id": "910647a4-c3e1-4c5c-90ac-62c1cf507f85",
   "metadata": {},
   "source": [
    "## Data Cleaning"
   ]
  },
  {
   "cell_type": "code",
   "execution_count": 3,
   "id": "dc1dc679-8e81-4ddb-b6b0-bbe24f274a91",
   "metadata": {},
   "outputs": [
    {
     "name": "stdout",
     "output_type": "stream",
     "text": [
      "      work_year                  job_title               job_category  \\\n",
      "7492       2023  Machine Learning Engineer    Machine Learning and AI   \n",
      "7493       2023             Data Scientist  Data Science and Research   \n",
      "7494       2023             Data Scientist  Data Science and Research   \n",
      "7495       2023              Data Engineer           Data Engineering   \n",
      "7496       2023              Data Engineer           Data Engineering   \n",
      "\n",
      "     salary_currency  salary  salary_in_usd employee_residence  \\\n",
      "7492             USD  134500         134500      United States   \n",
      "7493             USD  130000         130000      United States   \n",
      "7494             USD   90000          90000      United States   \n",
      "7495             USD  160000         160000      United States   \n",
      "7496             USD  135000         135000      United States   \n",
      "\n",
      "     experience_level employment_type work_setting company_location  \\\n",
      "7492           Senior       Full-time    In-person    United States   \n",
      "7493        Mid-level       Full-time    In-person    United States   \n",
      "7494        Mid-level       Full-time    In-person    United States   \n",
      "7495      Entry-level       Full-time    In-person    United States   \n",
      "7496      Entry-level       Full-time    In-person    United States   \n",
      "\n",
      "     company_size  \n",
      "7492            L  \n",
      "7493            M  \n",
      "7494            M  \n",
      "7495            M  \n",
      "7496            M  \n"
     ]
    }
   ],
   "source": [
    "# Filter year to only 2023\n",
    "FJ_Data = Jobs_Data[Jobs_Data['work_year'] == 2023]\n",
    "\n",
    "# Check last 5 rows as verification\n",
    "print(FJ_Data.tail())"
   ]
  },
  {
   "cell_type": "code",
   "execution_count": 4,
   "id": "ce0ed2be-0c77-4735-b770-84439ec9e5f2",
   "metadata": {},
   "outputs": [
    {
     "name": "stdout",
     "output_type": "stream",
     "text": [
      "   work_year       job_title                    job_category salary_currency  \\\n",
      "1       2023  Data Architect  Data Architecture and Modeling             USD   \n",
      "2       2023  Data Architect  Data Architecture and Modeling             USD   \n",
      "3       2023  Data Scientist       Data Science and Research             USD   \n",
      "4       2023  Data Scientist       Data Science and Research             USD   \n",
      "5       2023  Data Scientist       Data Science and Research             USD   \n",
      "\n",
      "   salary  salary_in_usd employee_residence experience_level employment_type  \\\n",
      "1  186000         186000      United States           Senior       Full-time   \n",
      "2   81800          81800      United States           Senior       Full-time   \n",
      "3  212000         212000      United States           Senior       Full-time   \n",
      "4   93300          93300      United States           Senior       Full-time   \n",
      "5  130000         130000      United States           Senior       Full-time   \n",
      "\n",
      "  work_setting company_location company_size  \n",
      "1    In-person    United States            M  \n",
      "2    In-person    United States            M  \n",
      "3    In-person    United States            M  \n",
      "4    In-person    United States            M  \n",
      "5       Remote    United States            M  \n"
     ]
    }
   ],
   "source": [
    "# Filter employee residence to only US\n",
    "ER_Data= FJ_Data[FJ_Data['employee_residence'] == 'United States']\n",
    "\n",
    "# Check first 5 rows as verification\n",
    "print(ER_Data.head())"
   ]
  },
  {
   "cell_type": "code",
   "execution_count": 5,
   "id": "a8c9a116-7943-4574-aecc-32671b579579",
   "metadata": {},
   "outputs": [
    {
     "name": "stdout",
     "output_type": "stream",
     "text": [
      "   work_year       job_title                    job_category salary_currency  \\\n",
      "1       2023  Data Architect  Data Architecture and Modeling             USD   \n",
      "2       2023  Data Architect  Data Architecture and Modeling             USD   \n",
      "3       2023  Data Scientist       Data Science and Research             USD   \n",
      "4       2023  Data Scientist       Data Science and Research             USD   \n",
      "5       2023  Data Scientist       Data Science and Research             USD   \n",
      "\n",
      "   salary  salary_in_usd        Country experience_level employment_type  \\\n",
      "1  186000         186000  United States           Senior       Full-time   \n",
      "2   81800          81800  United States           Senior       Full-time   \n",
      "3  212000         212000  United States           Senior       Full-time   \n",
      "4   93300          93300  United States           Senior       Full-time   \n",
      "5  130000         130000  United States           Senior       Full-time   \n",
      "\n",
      "  work_setting company_location company_size  \n",
      "1    In-person    United States            M  \n",
      "2    In-person    United States            M  \n",
      "3    In-person    United States            M  \n",
      "4    In-person    United States            M  \n",
      "5       Remote    United States            M  \n"
     ]
    }
   ],
   "source": [
    "# Rename necessary columns\n",
    "ER_Data=ER_Data.rename(columns={'employee_residence': 'Country'})\n",
    "print(ER_Data.head())"
   ]
  },
  {
   "cell_type": "code",
   "execution_count": 6,
   "id": "7b9834f7-266b-4796-bda3-a5fb375311f2",
   "metadata": {},
   "outputs": [
    {
     "name": "stdout",
     "output_type": "stream",
     "text": [
      "   work_year       job_title                    job_category salary_currency  \\\n",
      "1       2023  Data Architect  Data Architecture and Modeling             USD   \n",
      "2       2023  Data Architect  Data Architecture and Modeling             USD   \n",
      "3       2023  Data Scientist       Data Science and Research             USD   \n",
      "4       2023  Data Scientist       Data Science and Research             USD   \n",
      "5       2023  Data Scientist       Data Science and Research             USD   \n",
      "\n",
      "   salary        Country experience_level employment_type work_setting  \\\n",
      "1  186000  United States           Senior       Full-time    In-person   \n",
      "2   81800  United States           Senior       Full-time    In-person   \n",
      "3  212000  United States           Senior       Full-time    In-person   \n",
      "4   93300  United States           Senior       Full-time    In-person   \n",
      "5  130000  United States           Senior       Full-time       Remote   \n",
      "\n",
      "  company_location company_size  \n",
      "1    United States            M  \n",
      "2    United States            M  \n",
      "3    United States            M  \n",
      "4    United States            M  \n",
      "5    United States            M  \n"
     ]
    }
   ],
   "source": [
    "# Drop salary_in_usd since it is repetitive\n",
    "ER_Data= ER_Data.drop(columns={'salary_in_usd'})\n",
    "print(ER_Data.head())"
   ]
  },
  {
   "cell_type": "code",
   "execution_count": 7,
   "id": "491e8273-721e-40e7-97a6-2ca2ab653adc",
   "metadata": {},
   "outputs": [
    {
     "name": "stdout",
     "output_type": "stream",
     "text": [
      "   work_year       job_title                    job_category  salary  \\\n",
      "1       2023  Data Architect  Data Architecture and Modeling  186000   \n",
      "2       2023  Data Architect  Data Architecture and Modeling   81800   \n",
      "3       2023  Data Scientist       Data Science and Research  212000   \n",
      "4       2023  Data Scientist       Data Science and Research   93300   \n",
      "5       2023  Data Scientist       Data Science and Research  130000   \n",
      "\n",
      "         Country experience_level employment_type work_setting company_size  \n",
      "1  United States           Senior       Full-time    In-person            M  \n",
      "2  United States           Senior       Full-time    In-person            M  \n",
      "3  United States           Senior       Full-time    In-person            M  \n",
      "4  United States           Senior       Full-time    In-person            M  \n",
      "5  United States           Senior       Full-time       Remote            M  \n"
     ]
    }
   ],
   "source": [
    "# Drop salary_currency and company_location since it is repetitive\n",
    "ER_Data = ER_Data.drop(columns={'salary_currency', 'company_location'})\n",
    "print(ER_Data.head())"
   ]
  },
  {
   "cell_type": "markdown",
   "id": "62640273-d20e-4bb3-bba5-2a29ba47d161",
   "metadata": {},
   "source": [
    "### **Question**: What is the avg salary based on experience level?\r\n"
   ]
  },
  {
   "cell_type": "code",
   "execution_count": 16,
   "id": "45518871-fedf-4335-9a14-558894225de1",
   "metadata": {},
   "outputs": [
    {
     "name": "stdout",
     "output_type": "stream",
     "text": [
      "Average Salary for each Experience Level\n",
      " experience_level\n",
      "Entry-level    105290.338776\n",
      "Executive      192222.156863\n",
      "Mid-level      131201.846085\n",
      "Senior         168754.329718\n",
      "Name: salary, dtype: float64\n"
     ]
    }
   ],
   "source": [
    "# (MM)\n",
    "\n",
    "# grouping by experience level\n",
    "exp_lvl = ER_Data.groupby('experience_level')\n",
    "\n",
    "# finding the average salary for each experience level\n",
    "avg_sal = exp_lvl['salary'].mean()\n",
    "\n",
    "# display average salaries\n",
    "print(\"Average Salary for each Experience Level\\n\",avg_sal)"
   ]
  },
  {
   "cell_type": "markdown",
   "id": "f984e2e3-0a6a-4319-a621-d22c506b9b70",
   "metadata": {},
   "source": [
    "### **Question**: Find the Max/Min salary for each experience level."
   ]
  },
  {
   "cell_type": "code",
   "execution_count": 17,
   "id": "0a379405-7942-46a1-b42a-3befa96107d8",
   "metadata": {},
   "outputs": [
    {
     "name": "stdout",
     "output_type": "stream",
     "text": [
      "Maximum Salary for each Experience Level\n",
      " experience_level\n",
      "Entry-level    281700\n",
      "Executive      375500\n",
      "Mid-level      405000\n",
      "Senior         392000\n",
      "Name: salary, dtype: int64\n",
      "===================\n",
      "Minimum Salary for each Experience Level\n",
      " experience_level\n",
      "Entry-level    24000\n",
      "Executive      55000\n",
      "Mid-level      25500\n",
      "Senior         38000\n",
      "Name: salary, dtype: int64\n"
     ]
    }
   ],
   "source": [
    "# (MM)\n",
    "\n",
    "# finding the max salary \n",
    "max_sal = exp_lvl['salary'].max()\n",
    "\n",
    "# finding the min salary\n",
    "min_sal = exp_lvl['salary'].min()\n",
    "\n",
    "# display the max and min salaries\n",
    "print(\"Maximum Salary for each Experience Level\\n\",max_sal)\n",
    "print(\"===================\")\n",
    "print(\"Minimum Salary for each Experience Level\\n\",min_sal)"
   ]
  },
  {
   "cell_type": "code",
   "execution_count": null,
   "id": "e5cbdb4d-865b-46d9-a032-3e73cff5eaaf",
   "metadata": {},
   "outputs": [],
   "source": []
  }
 ],
 "metadata": {
  "kernelspec": {
   "display_name": "Python 3 (ipykernel)",
   "language": "python",
   "name": "python3"
  },
  "language_info": {
   "codemirror_mode": {
    "name": "ipython",
    "version": 3
   },
   "file_extension": ".py",
   "mimetype": "text/x-python",
   "name": "python",
   "nbconvert_exporter": "python",
   "pygments_lexer": "ipython3",
   "version": "3.11.7"
  }
 },
 "nbformat": 4,
 "nbformat_minor": 5
}
