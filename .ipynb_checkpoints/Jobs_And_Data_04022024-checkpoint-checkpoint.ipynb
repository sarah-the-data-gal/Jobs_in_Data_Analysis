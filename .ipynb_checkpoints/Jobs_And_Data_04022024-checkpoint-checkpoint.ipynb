{
 "cells": [
  {
   "cell_type": "code",
   "execution_count": 2,
   "id": "86cf5184-6442-441d-afd2-50353e018d74",
   "metadata": {},
   "outputs": [],
   "source": [
    "import csv as csv "
   ]
  },
  {
   "cell_type": "code",
   "execution_count": 5,
   "id": "e1a80a52-6307-42f7-bf3f-727793f70ee2",
   "metadata": {},
   "outputs": [],
   "source": [
    "import numpy as np\n",
    "import pandas as pd\n",
    "import matplotlib.pyplot as plt"
   ]
  },
  {
   "cell_type": "code",
   "execution_count": 11,
   "id": "b02936c0-290f-48d9-aed3-90cc173eb4af",
   "metadata": {},
   "outputs": [
    {
     "name": "stdout",
     "output_type": "stream",
     "text": [
      "   work_year             job_title                    job_category  \\\n",
      "0       2023  Data DevOps Engineer                Data Engineering   \n",
      "1       2023        Data Architect  Data Architecture and Modeling   \n",
      "2       2023        Data Architect  Data Architecture and Modeling   \n",
      "3       2023        Data Scientist       Data Science and Research   \n",
      "4       2023        Data Scientist       Data Science and Research   \n",
      "\n",
      "  salary_currency  salary  salary_in_usd employee_residence experience_level  \\\n",
      "0             EUR   88000          95012            Germany        Mid-level   \n",
      "1             USD  186000         186000      United States           Senior   \n",
      "2             USD   81800          81800      United States           Senior   \n",
      "3             USD  212000         212000      United States           Senior   \n",
      "4             USD   93300          93300      United States           Senior   \n",
      "\n",
      "  employment_type work_setting company_location company_size  \n",
      "0       Full-time       Hybrid          Germany            L  \n",
      "1       Full-time    In-person    United States            M  \n",
      "2       Full-time    In-person    United States            M  \n",
      "3       Full-time    In-person    United States            M  \n",
      "4       Full-time    In-person    United States            M  \n"
     ]
    }
   ],
   "source": [
    "# Read Jobs Data \n",
    "Jobs_Data= pd.read_csv(\"Jobs_in_data.csv\")\n",
    "print(Jobs_Data.head())"
   ]
  },
  {
   "cell_type": "code",
   "execution_count": 15,
   "id": "dc1dc679-8e81-4ddb-b6b0-bbe24f274a91",
   "metadata": {},
   "outputs": [
    {
     "name": "stdout",
     "output_type": "stream",
     "text": [
      "   work_year             job_title                    job_category  \\\n",
      "0       2023  Data DevOps Engineer                Data Engineering   \n",
      "1       2023        Data Architect  Data Architecture and Modeling   \n",
      "2       2023        Data Architect  Data Architecture and Modeling   \n",
      "3       2023        Data Scientist       Data Science and Research   \n",
      "4       2023        Data Scientist       Data Science and Research   \n",
      "\n",
      "  salary_currency  salary  salary_in_usd employee_residence experience_level  \\\n",
      "0             EUR   88000          95012            Germany        Mid-level   \n",
      "1             USD  186000         186000      United States           Senior   \n",
      "2             USD   81800          81800      United States           Senior   \n",
      "3             USD  212000         212000      United States           Senior   \n",
      "4             USD   93300          93300      United States           Senior   \n",
      "\n",
      "  employment_type work_setting company_location company_size  \n",
      "0       Full-time       Hybrid          Germany            L  \n",
      "1       Full-time    In-person    United States            M  \n",
      "2       Full-time    In-person    United States            M  \n",
      "3       Full-time    In-person    United States            M  \n",
      "4       Full-time    In-person    United States            M  \n"
     ]
    }
   ],
   "source": [
    "# Filter year to only 2023\n",
    "FJ_Data = Jobs_Data[Jobs_Data['work_year'] == 2023]\n",
    "print(FJ_Data.head())"
   ]
  },
  {
   "cell_type": "code",
   "execution_count": 17,
   "id": "ce0ed2be-0c77-4735-b770-84439ec9e5f2",
   "metadata": {},
   "outputs": [
    {
     "name": "stdout",
     "output_type": "stream",
     "text": [
      "      work_year                  job_title                    job_category  \\\n",
      "1          2023             Data Architect  Data Architecture and Modeling   \n",
      "2          2023             Data Architect  Data Architecture and Modeling   \n",
      "3          2023             Data Scientist       Data Science and Research   \n",
      "4          2023             Data Scientist       Data Science and Research   \n",
      "5          2023             Data Scientist       Data Science and Research   \n",
      "...         ...                        ...                             ...   \n",
      "7492       2023  Machine Learning Engineer         Machine Learning and AI   \n",
      "7493       2023             Data Scientist       Data Science and Research   \n",
      "7494       2023             Data Scientist       Data Science and Research   \n",
      "7495       2023              Data Engineer                Data Engineering   \n",
      "7496       2023              Data Engineer                Data Engineering   \n",
      "\n",
      "     salary_currency  salary  salary_in_usd employee_residence  \\\n",
      "1                USD  186000         186000      United States   \n",
      "2                USD   81800          81800      United States   \n",
      "3                USD  212000         212000      United States   \n",
      "4                USD   93300          93300      United States   \n",
      "5                USD  130000         130000      United States   \n",
      "...              ...     ...            ...                ...   \n",
      "7492             USD  134500         134500      United States   \n",
      "7493             USD  130000         130000      United States   \n",
      "7494             USD   90000          90000      United States   \n",
      "7495             USD  160000         160000      United States   \n",
      "7496             USD  135000         135000      United States   \n",
      "\n",
      "     experience_level employment_type work_setting company_location  \\\n",
      "1              Senior       Full-time    In-person    United States   \n",
      "2              Senior       Full-time    In-person    United States   \n",
      "3              Senior       Full-time    In-person    United States   \n",
      "4              Senior       Full-time    In-person    United States   \n",
      "5              Senior       Full-time       Remote    United States   \n",
      "...               ...             ...          ...              ...   \n",
      "7492           Senior       Full-time    In-person    United States   \n",
      "7493        Mid-level       Full-time    In-person    United States   \n",
      "7494        Mid-level       Full-time    In-person    United States   \n",
      "7495      Entry-level       Full-time    In-person    United States   \n",
      "7496      Entry-level       Full-time    In-person    United States   \n",
      "\n",
      "     company_size  \n",
      "1               M  \n",
      "2               M  \n",
      "3               M  \n",
      "4               M  \n",
      "5               M  \n",
      "...           ...  \n",
      "7492            L  \n",
      "7493            M  \n",
      "7494            M  \n",
      "7495            M  \n",
      "7496            M  \n",
      "\n",
      "[6644 rows x 12 columns]\n"
     ]
    }
   ],
   "source": [
    "# Filter employee residence to only US\n",
    "\n",
    "ER_Data= FJ_Data[FJ_Data['employee_residence'] == 'United States']\n",
    "print(ER_Data)"
   ]
  },
  {
   "cell_type": "code",
   "execution_count": 18,
   "id": "a8c9a116-7943-4574-aecc-32671b579579",
   "metadata": {},
   "outputs": [
    {
     "name": "stdout",
     "output_type": "stream",
     "text": [
      "   work_year       job_title                    job_category salary_currency  \\\n",
      "1       2023  Data Architect  Data Architecture and Modeling             USD   \n",
      "2       2023  Data Architect  Data Architecture and Modeling             USD   \n",
      "3       2023  Data Scientist       Data Science and Research             USD   \n",
      "4       2023  Data Scientist       Data Science and Research             USD   \n",
      "5       2023  Data Scientist       Data Science and Research             USD   \n",
      "\n",
      "   salary  salary_in_usd        Country experience_level employment_type  \\\n",
      "1  186000         186000  United States           Senior       Full-time   \n",
      "2   81800          81800  United States           Senior       Full-time   \n",
      "3  212000         212000  United States           Senior       Full-time   \n",
      "4   93300          93300  United States           Senior       Full-time   \n",
      "5  130000         130000  United States           Senior       Full-time   \n",
      "\n",
      "  work_setting company_location company_size  \n",
      "1    In-person    United States            M  \n",
      "2    In-person    United States            M  \n",
      "3    In-person    United States            M  \n",
      "4    In-person    United States            M  \n",
      "5       Remote    United States            M  \n"
     ]
    }
   ],
   "source": [
    "ER_Data=ER_Data.rename(columns={'employee_residence': 'Country'})\n",
    "print(ER_Data.head())\n"
   ]
  },
  {
   "cell_type": "code",
   "execution_count": 20,
   "id": "7b9834f7-266b-4796-bda3-a5fb375311f2",
   "metadata": {},
   "outputs": [
    {
     "name": "stdout",
     "output_type": "stream",
     "text": [
      "   work_year       job_title                    job_category salary_currency  \\\n",
      "1       2023  Data Architect  Data Architecture and Modeling             USD   \n",
      "2       2023  Data Architect  Data Architecture and Modeling             USD   \n",
      "3       2023  Data Scientist       Data Science and Research             USD   \n",
      "4       2023  Data Scientist       Data Science and Research             USD   \n",
      "5       2023  Data Scientist       Data Science and Research             USD   \n",
      "\n",
      "   salary        Country experience_level employment_type work_setting  \\\n",
      "1  186000  United States           Senior       Full-time    In-person   \n",
      "2   81800  United States           Senior       Full-time    In-person   \n",
      "3  212000  United States           Senior       Full-time    In-person   \n",
      "4   93300  United States           Senior       Full-time    In-person   \n",
      "5  130000  United States           Senior       Full-time       Remote   \n",
      "\n",
      "  company_location company_size  \n",
      "1    United States            M  \n",
      "2    United States            M  \n",
      "3    United States            M  \n",
      "4    United States            M  \n",
      "5    United States            M  \n"
     ]
    }
   ],
   "source": [
    "ER_Data= ER_Data.drop(columns={'salary_in_usd'})\n",
    "print(ER_Data.head())"
   ]
  },
  {
   "cell_type": "code",
   "execution_count": null,
   "id": "491e8273-721e-40e7-97a6-2ca2ab653adc",
   "metadata": {},
   "outputs": [],
   "source": []
  }
 ],
 "metadata": {
  "kernelspec": {
   "display_name": "Python 3 (ipykernel)",
   "language": "python",
   "name": "python3"
  },
  "language_info": {
   "codemirror_mode": {
    "name": "ipython",
    "version": 3
   },
   "file_extension": ".py",
   "mimetype": "text/x-python",
   "name": "python",
   "nbconvert_exporter": "python",
   "pygments_lexer": "ipython3",
   "version": "3.11.7"
  }
 },
 "nbformat": 4,
 "nbformat_minor": 5
}
