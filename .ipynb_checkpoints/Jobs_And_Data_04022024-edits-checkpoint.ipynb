{
 "cells": [
  {
   "cell_type": "code",
   "execution_count": 1,
   "id": "86cf5184-6442-441d-afd2-50353e018d74",
   "metadata": {},
   "outputs": [],
   "source": [
    "import csv as csv \n",
    "import numpy as np\n",
    "import pandas as pd\n",
    "import matplotlib.pyplot as plt"
   ]
  },
  {
   "cell_type": "code",
   "execution_count": 2,
   "id": "b02936c0-290f-48d9-aed3-90cc173eb4af",
   "metadata": {},
   "outputs": [
    {
     "name": "stdout",
     "output_type": "stream",
     "text": [
      "      work_year                 job_title                    job_category  \\\n",
      "0          2023      Data DevOps Engineer                Data Engineering   \n",
      "1          2023            Data Architect  Data Architecture and Modeling   \n",
      "2          2023            Data Architect  Data Architecture and Modeling   \n",
      "3          2023            Data Scientist       Data Science and Research   \n",
      "4          2023            Data Scientist       Data Science and Research   \n",
      "...         ...                       ...                             ...   \n",
      "9350       2021           Data Specialist    Data Management and Strategy   \n",
      "9351       2020            Data Scientist       Data Science and Research   \n",
      "9352       2021  Principal Data Scientist       Data Science and Research   \n",
      "9353       2020            Data Scientist       Data Science and Research   \n",
      "9354       2020     Business Data Analyst                   Data Analysis   \n",
      "\n",
      "     salary_currency  salary  salary_in_usd employee_residence  \\\n",
      "0                EUR   88000          95012            Germany   \n",
      "1                USD  186000         186000      United States   \n",
      "2                USD   81800          81800      United States   \n",
      "3                USD  212000         212000      United States   \n",
      "4                USD   93300          93300      United States   \n",
      "...              ...     ...            ...                ...   \n",
      "9350             USD  165000         165000      United States   \n",
      "9351             USD  412000         412000      United States   \n",
      "9352             USD  151000         151000      United States   \n",
      "9353             USD  105000         105000      United States   \n",
      "9354             USD  100000         100000      United States   \n",
      "\n",
      "     experience_level employment_type work_setting company_location  \\\n",
      "0           Mid-level       Full-time       Hybrid          Germany   \n",
      "1              Senior       Full-time    In-person    United States   \n",
      "2              Senior       Full-time    In-person    United States   \n",
      "3              Senior       Full-time    In-person    United States   \n",
      "4              Senior       Full-time    In-person    United States   \n",
      "...               ...             ...          ...              ...   \n",
      "9350           Senior       Full-time       Remote    United States   \n",
      "9351           Senior       Full-time       Remote    United States   \n",
      "9352        Mid-level       Full-time       Remote    United States   \n",
      "9353      Entry-level       Full-time       Remote    United States   \n",
      "9354      Entry-level        Contract       Remote    United States   \n",
      "\n",
      "     company_size  \n",
      "0               L  \n",
      "1               M  \n",
      "2               M  \n",
      "3               M  \n",
      "4               M  \n",
      "...           ...  \n",
      "9350            L  \n",
      "9351            L  \n",
      "9352            L  \n",
      "9353            S  \n",
      "9354            L  \n",
      "\n",
      "[9355 rows x 12 columns]\n"
     ]
    }
   ],
   "source": [
    "# Read Jobs Data \n",
    "Jobs_Data= pd.read_csv(\"Jobs_in_data.csv\")\n",
    "print(Jobs_Data)"
   ]
  },
  {
   "cell_type": "markdown",
   "id": "910647a4-c3e1-4c5c-90ac-62c1cf507f85",
   "metadata": {},
   "source": [
    "## Data Cleaning"
   ]
  },
  {
   "cell_type": "code",
   "execution_count": 3,
   "id": "dc1dc679-8e81-4ddb-b6b0-bbe24f274a91",
   "metadata": {},
   "outputs": [
    {
     "name": "stdout",
     "output_type": "stream",
     "text": [
      "      work_year                  job_title               job_category  \\\n",
      "7492       2023  Machine Learning Engineer    Machine Learning and AI   \n",
      "7493       2023             Data Scientist  Data Science and Research   \n",
      "7494       2023             Data Scientist  Data Science and Research   \n",
      "7495       2023              Data Engineer           Data Engineering   \n",
      "7496       2023              Data Engineer           Data Engineering   \n",
      "\n",
      "     salary_currency  salary  salary_in_usd employee_residence  \\\n",
      "7492             USD  134500         134500      United States   \n",
      "7493             USD  130000         130000      United States   \n",
      "7494             USD   90000          90000      United States   \n",
      "7495             USD  160000         160000      United States   \n",
      "7496             USD  135000         135000      United States   \n",
      "\n",
      "     experience_level employment_type work_setting company_location  \\\n",
      "7492           Senior       Full-time    In-person    United States   \n",
      "7493        Mid-level       Full-time    In-person    United States   \n",
      "7494        Mid-level       Full-time    In-person    United States   \n",
      "7495      Entry-level       Full-time    In-person    United States   \n",
      "7496      Entry-level       Full-time    In-person    United States   \n",
      "\n",
      "     company_size  \n",
      "7492            L  \n",
      "7493            M  \n",
      "7494            M  \n",
      "7495            M  \n",
      "7496            M  \n"
     ]
    }
   ],
   "source": [
    "# Filter year to only 2023\n",
    "FJ_Data = Jobs_Data[Jobs_Data['work_year'] == 2023]\n",
    "\n",
    "# Check last 5 rows as verification\n",
    "print(FJ_Data.tail())"
   ]
  },
  {
   "cell_type": "code",
   "execution_count": 4,
   "id": "ce0ed2be-0c77-4735-b770-84439ec9e5f2",
   "metadata": {},
   "outputs": [
    {
     "name": "stdout",
     "output_type": "stream",
     "text": [
      "   work_year       job_title                    job_category salary_currency  \\\n",
      "1       2023  Data Architect  Data Architecture and Modeling             USD   \n",
      "2       2023  Data Architect  Data Architecture and Modeling             USD   \n",
      "3       2023  Data Scientist       Data Science and Research             USD   \n",
      "4       2023  Data Scientist       Data Science and Research             USD   \n",
      "5       2023  Data Scientist       Data Science and Research             USD   \n",
      "\n",
      "   salary  salary_in_usd employee_residence experience_level employment_type  \\\n",
      "1  186000         186000      United States           Senior       Full-time   \n",
      "2   81800          81800      United States           Senior       Full-time   \n",
      "3  212000         212000      United States           Senior       Full-time   \n",
      "4   93300          93300      United States           Senior       Full-time   \n",
      "5  130000         130000      United States           Senior       Full-time   \n",
      "\n",
      "  work_setting company_location company_size  \n",
      "1    In-person    United States            M  \n",
      "2    In-person    United States            M  \n",
      "3    In-person    United States            M  \n",
      "4    In-person    United States            M  \n",
      "5       Remote    United States            M  \n"
     ]
    }
   ],
   "source": [
    "# Filter employee residence to only US\n",
    "ER_Data= FJ_Data[FJ_Data['employee_residence'] == 'United States']\n",
    "\n",
    "# Check first 5 rows as verification\n",
    "print(ER_Data.head())"
   ]
  },
  {
   "cell_type": "code",
   "execution_count": 5,
   "id": "a8c9a116-7943-4574-aecc-32671b579579",
   "metadata": {},
   "outputs": [
    {
     "name": "stdout",
     "output_type": "stream",
     "text": [
      "   work_year       job_title                    job_category salary_currency  \\\n",
      "1       2023  Data Architect  Data Architecture and Modeling             USD   \n",
      "2       2023  Data Architect  Data Architecture and Modeling             USD   \n",
      "3       2023  Data Scientist       Data Science and Research             USD   \n",
      "4       2023  Data Scientist       Data Science and Research             USD   \n",
      "5       2023  Data Scientist       Data Science and Research             USD   \n",
      "\n",
      "   salary  salary_in_usd        Country experience_level employment_type  \\\n",
      "1  186000         186000  United States           Senior       Full-time   \n",
      "2   81800          81800  United States           Senior       Full-time   \n",
      "3  212000         212000  United States           Senior       Full-time   \n",
      "4   93300          93300  United States           Senior       Full-time   \n",
      "5  130000         130000  United States           Senior       Full-time   \n",
      "\n",
      "  work_setting company_location company_size  \n",
      "1    In-person    United States            M  \n",
      "2    In-person    United States            M  \n",
      "3    In-person    United States            M  \n",
      "4    In-person    United States            M  \n",
      "5       Remote    United States            M  \n"
     ]
    }
   ],
   "source": [
    "# Rename necessary columns\n",
    "ER_Data=ER_Data.rename(columns={'employee_residence': 'Country'})\n",
    "print(ER_Data.head())"
   ]
  },
  {
   "cell_type": "code",
   "execution_count": 6,
   "id": "7b9834f7-266b-4796-bda3-a5fb375311f2",
   "metadata": {},
   "outputs": [
    {
     "name": "stdout",
     "output_type": "stream",
     "text": [
      "   work_year       job_title                    job_category salary_currency  \\\n",
      "1       2023  Data Architect  Data Architecture and Modeling             USD   \n",
      "2       2023  Data Architect  Data Architecture and Modeling             USD   \n",
      "3       2023  Data Scientist       Data Science and Research             USD   \n",
      "4       2023  Data Scientist       Data Science and Research             USD   \n",
      "5       2023  Data Scientist       Data Science and Research             USD   \n",
      "\n",
      "   salary        Country experience_level employment_type work_setting  \\\n",
      "1  186000  United States           Senior       Full-time    In-person   \n",
      "2   81800  United States           Senior       Full-time    In-person   \n",
      "3  212000  United States           Senior       Full-time    In-person   \n",
      "4   93300  United States           Senior       Full-time    In-person   \n",
      "5  130000  United States           Senior       Full-time       Remote   \n",
      "\n",
      "  company_location company_size  \n",
      "1    United States            M  \n",
      "2    United States            M  \n",
      "3    United States            M  \n",
      "4    United States            M  \n",
      "5    United States            M  \n"
     ]
    }
   ],
   "source": [
    "# Drop salary_in_usd since it is repetitive\n",
    "ER_Data= ER_Data.drop(columns={'salary_in_usd'})\n",
    "print(ER_Data.head())"
   ]
  },
  {
   "cell_type": "code",
   "execution_count": 7,
   "id": "491e8273-721e-40e7-97a6-2ca2ab653adc",
   "metadata": {},
   "outputs": [
    {
     "name": "stdout",
     "output_type": "stream",
     "text": [
      "   work_year       job_title                    job_category  salary  \\\n",
      "1       2023  Data Architect  Data Architecture and Modeling  186000   \n",
      "2       2023  Data Architect  Data Architecture and Modeling   81800   \n",
      "3       2023  Data Scientist       Data Science and Research  212000   \n",
      "4       2023  Data Scientist       Data Science and Research   93300   \n",
      "5       2023  Data Scientist       Data Science and Research  130000   \n",
      "\n",
      "         Country experience_level employment_type work_setting company_size  \n",
      "1  United States           Senior       Full-time    In-person            M  \n",
      "2  United States           Senior       Full-time    In-person            M  \n",
      "3  United States           Senior       Full-time    In-person            M  \n",
      "4  United States           Senior       Full-time    In-person            M  \n",
      "5  United States           Senior       Full-time       Remote            M  \n"
     ]
    }
   ],
   "source": [
    "# Drop salary_currency and company_location since it is repetitive\n",
    "ER_Data = ER_Data.drop(columns={'salary_currency', 'company_location'})\n",
    "print(ER_Data.head())"
   ]
  },
  {
   "cell_type": "markdown",
   "id": "62640273-d20e-4bb3-bba5-2a29ba47d161",
   "metadata": {},
   "source": [
    "### **Question**: What is the avg salary based on experience level?\n"
   ]
  },
  {
   "cell_type": "code",
   "execution_count": 8,
   "id": "45518871-fedf-4335-9a14-558894225de1",
   "metadata": {},
   "outputs": [
    {
     "name": "stdout",
     "output_type": "stream",
     "text": [
      "Average Salary for each Experience Level\n",
      " experience_level\n",
      "Entry-level    105290.338776\n",
      "Executive      192222.156863\n",
      "Mid-level      131201.846085\n",
      "Senior         168754.329718\n",
      "Name: salary, dtype: float64\n"
     ]
    }
   ],
   "source": [
    "# (MM)\n",
    "\n",
    "# grouping by experience level\n",
    "exp_lvl = ER_Data.groupby('experience_level')\n",
    "\n",
    "# finding the average salary for each experience level\n",
    "avg_sal = exp_lvl['salary'].mean()\n",
    "\n",
    "# display average salaries\n",
    "print(\"Average Salary for each Experience Level\\n\",avg_sal)"
   ]
  },
  {
   "cell_type": "markdown",
   "id": "f984e2e3-0a6a-4319-a621-d22c506b9b70",
   "metadata": {},
   "source": [
    "### **Question**: Find the Max/Min salary for each experience level."
   ]
  },
  {
   "cell_type": "code",
   "execution_count": 9,
   "id": "0a379405-7942-46a1-b42a-3befa96107d8",
   "metadata": {},
   "outputs": [
    {
     "name": "stdout",
     "output_type": "stream",
     "text": [
      "Maximum Salary for each Experience Level\n",
      " experience_level\n",
      "Entry-level    281700\n",
      "Executive      375500\n",
      "Mid-level      405000\n",
      "Senior         392000\n",
      "Name: salary, dtype: int64\n",
      "===================\n",
      "Minimum Salary for each Experience Level\n",
      " experience_level\n",
      "Entry-level    24000\n",
      "Executive      55000\n",
      "Mid-level      25500\n",
      "Senior         38000\n",
      "Name: salary, dtype: int64\n"
     ]
    }
   ],
   "source": [
    "# (MM)\n",
    "\n",
    "# finding the max salary \n",
    "max_sal = exp_lvl['salary'].max()\n",
    "\n",
    "# finding the min salary\n",
    "min_sal = exp_lvl['salary'].min()\n",
    "\n",
    "# display the max and min salaries\n",
    "print(\"Maximum Salary for each Experience Level\\n\",max_sal)\n",
    "print(\"===================\")\n",
    "print(\"Minimum Salary for each Experience Level\\n\",min_sal)"
   ]
  },
  {
   "cell_type": "code",
   "execution_count": 10,
   "id": "f481f07c-32c1-469a-8836-cc0913db0a70",
   "metadata": {},
   "outputs": [
    {
     "data": {
      "image/png": "[encoded data removed]",
      "text/plain": [
       "<Figure size 1000x800 with 3 Axes>"
      ]
     },
     "metadata": {},
     "output_type": "display_data"
    }
   ],
   "source": [
    "# Visualization: Line Graphs\n",
    "fig, (ax1,ax2,ax3) = plt.subplots(3,1, figsize=(10,8))\n",
    "\n",
    "# First Plot: Average Salaries\n",
    "ax1.plot(avg_sal)\n",
    "\n",
    "# Label Plot\n",
    "ax1.set_title(\"Average Salary for each Experience Level\")\n",
    "ax1.set_xlabel(\"Experience Level\")\n",
    "ax1.set_ylabel(\"Average Salary\")\n",
    "\n",
    "# Second Plot: Max Salary\n",
    "ax2.plot(max_sal)\n",
    "\n",
    "# Label Plot\n",
    "ax2.set_title(\"Maximum Salary for each Experience Level\")\n",
    "ax2.set_xlabel(\"Experience Level\")\n",
    "ax2.set_ylabel(\"Max Salary\")\n",
    "\n",
    "# Third Plot: Min Salary\n",
    "ax3.plot(min_sal)\n",
    "\n",
    "# Label Plot\n",
    "ax3.set_title(\"Minimum Salary for each Experience Level\")\n",
    "ax3.set_xlabel(\"Experience Level\")\n",
    "ax3.set_ylabel(\"Min Salary\")\n",
    "\n",
    "fig.tight_layout()\n",
    "plt.show()"
   ]
  },
  {
   "cell_type": "code",
   "execution_count": 11,
   "id": "e5cbdb4d-865b-46d9-a032-3e73cff5eaaf",
   "metadata": {},
   "outputs": [
    {
     "name": "stdout",
     "output_type": "stream",
     "text": [
      "Distribution of Each Level\n",
      " Senior         5071\n",
      "Mid-level      1124\n",
      "Entry-level     245\n",
      "Executive       204\n",
      "Name: experience_level, dtype: int64\n"
     ]
    },
    {
     "data": {
      "image/png": "[encoded data removed]",
      "text/plain": [
       "<Figure size 640x480 with 1 Axes>"
      ]
     },
     "metadata": {},
     "output_type": "display_data"
    }
   ],
   "source": [
    "# Visualization: Pie Chart - Proportion of Experience Level\n",
    "\n",
    "# Count for each Portion\n",
    "exp_lvl_count = ER_Data['experience_level'].value_counts()\n",
    "print(\"Distribution of Each Level\\n\",exp_lvl_count)\n",
    "\n",
    "# Plot\n",
    "pie_labels = ['Senior', 'Mid-level', 'Entry-level', 'Executive']\n",
    "\n",
    "plt.pie(exp_lvl_count, labels = pie_labels, autopct='%1.1f%%')\n",
    "plt.show()"
   ]
  },
  {
   "cell_type": "markdown",
   "id": "f916d249-1cb2-4da0-bda8-331a18fadcd3",
   "metadata": {},
   "source": [
    "### Breakdown of each Experience Level within each Job Title"
   ]
  },
  {
   "cell_type": "code",
   "execution_count": 12,
   "id": "a47d3637-d9b3-48ae-9c7c-37f4ea1b4dd3",
   "metadata": {},
   "outputs": [
    {
     "data": {
      "text/html": [
       "<div>\n",
       "<style scoped>\n",
       "    .dataframe tbody tr th:only-of-type {\n",
       "        vertical-align: middle;\n",
       "    }\n",
       "\n",
       "    .dataframe tbody tr th {\n",
       "        vertical-align: top;\n",
       "    }\n",
       "\n",
       "    .dataframe thead th {\n",
       "        text-align: right;\n",
       "    }\n",
       "</style>\n",
       "<table border=\"1\" class=\"dataframe\">\n",
       "  <thead>\n",
       "    <tr style=\"text-align: right;\">\n",
       "      <th></th>\n",
       "      <th>job_title</th>\n",
       "      <th>experience_level</th>\n",
       "      <th>salary</th>\n",
       "    </tr>\n",
       "  </thead>\n",
       "  <tbody>\n",
       "    <tr>\n",
       "      <th>1</th>\n",
       "      <td>Data Architect</td>\n",
       "      <td>Senior</td>\n",
       "      <td>186000</td>\n",
       "    </tr>\n",
       "    <tr>\n",
       "      <th>2</th>\n",
       "      <td>Data Architect</td>\n",
       "      <td>Senior</td>\n",
       "      <td>81800</td>\n",
       "    </tr>\n",
       "    <tr>\n",
       "      <th>3</th>\n",
       "      <td>Data Scientist</td>\n",
       "      <td>Senior</td>\n",
       "      <td>212000</td>\n",
       "    </tr>\n",
       "    <tr>\n",
       "      <th>4</th>\n",
       "      <td>Data Scientist</td>\n",
       "      <td>Senior</td>\n",
       "      <td>93300</td>\n",
       "    </tr>\n",
       "    <tr>\n",
       "      <th>5</th>\n",
       "      <td>Data Scientist</td>\n",
       "      <td>Senior</td>\n",
       "      <td>130000</td>\n",
       "    </tr>\n",
       "  </tbody>\n",
       "</table>\n",
       "</div>"
      ],
      "text/plain": [
       "        job_title experience_level  salary\n",
       "1  Data Architect           Senior  186000\n",
       "2  Data Architect           Senior   81800\n",
       "3  Data Scientist           Senior  212000\n",
       "4  Data Scientist           Senior   93300\n",
       "5  Data Scientist           Senior  130000"
      ]
     },
     "execution_count": 12,
     "metadata": {},
     "output_type": "execute_result"
    }
   ],
   "source": [
    "jb_explvl_sal = ER_Data[['job_title','experience_level','salary']]\n",
    "jb_explvl_sal.head()\n"
   ]
  },
  {
   "cell_type": "code",
   "execution_count": 13,
   "id": "ad388ef9-6c59-435f-862b-fa36b8cd3245",
   "metadata": {},
   "outputs": [
    {
     "name": "stdout",
     "output_type": "stream",
     "text": [
      "experience_level  job_title               \n",
      "Entry-level       AI Developer                130000.000000\n",
      "                  Analytics Engineer          112412.500000\n",
      "                  Applied Scientist           178367.500000\n",
      "                  BI Data Engineer             60000.000000\n",
      "                  BI Developer                100650.000000\n",
      "                                                  ...      \n",
      "Senior            Principal Data Scientist    177500.000000\n",
      "                  Research Analyst            122965.944444\n",
      "                  Research Engineer           196289.645833\n",
      "                  Research Scientist          195585.535714\n",
      "                  Software Data Engineer      210000.000000\n",
      "Name: salary, Length: 155, dtype: float64\n"
     ]
    }
   ],
   "source": [
    "mean_sals = jb_explvl_sal.groupby(['experience_level','job_title'])['salary'].mean()\n",
    "\n",
    "print(mean_sals)"
   ]
  },
  {
   "cell_type": "code",
   "execution_count": 17,
   "id": "1aa41650-01f3-4df7-b355-71101e5c796b",
   "metadata": {},
   "outputs": [
    {
     "data": {
      "text/html": [
       "<div>\n",
       "<style scoped>\n",
       "    .dataframe tbody tr th:only-of-type {\n",
       "        vertical-align: middle;\n",
       "    }\n",
       "\n",
       "    .dataframe tbody tr th {\n",
       "        vertical-align: top;\n",
       "    }\n",
       "\n",
       "    .dataframe thead th {\n",
       "        text-align: right;\n",
       "    }\n",
       "</style>\n",
       "<table border=\"1\" class=\"dataframe\">\n",
       "  <thead>\n",
       "    <tr style=\"text-align: right;\">\n",
       "      <th></th>\n",
       "      <th></th>\n",
       "      <th>salary</th>\n",
       "    </tr>\n",
       "    <tr>\n",
       "      <th>experience_level</th>\n",
       "      <th>job_title</th>\n",
       "      <th></th>\n",
       "    </tr>\n",
       "  </thead>\n",
       "  <tbody>\n",
       "    <tr>\n",
       "      <th rowspan=\"5\" valign=\"top\">Entry-level</th>\n",
       "      <th>AI Developer</th>\n",
       "      <td>130000.000000</td>\n",
       "    </tr>\n",
       "    <tr>\n",
       "      <th>Analytics Engineer</th>\n",
       "      <td>112412.500000</td>\n",
       "    </tr>\n",
       "    <tr>\n",
       "      <th>Applied Scientist</th>\n",
       "      <td>178367.500000</td>\n",
       "    </tr>\n",
       "    <tr>\n",
       "      <th>BI Data Engineer</th>\n",
       "      <td>60000.000000</td>\n",
       "    </tr>\n",
       "    <tr>\n",
       "      <th>BI Developer</th>\n",
       "      <td>100650.000000</td>\n",
       "    </tr>\n",
       "    <tr>\n",
       "      <th>...</th>\n",
       "      <th>...</th>\n",
       "      <td>...</td>\n",
       "    </tr>\n",
       "    <tr>\n",
       "      <th rowspan=\"5\" valign=\"top\">Senior</th>\n",
       "      <th>Principal Data Scientist</th>\n",
       "      <td>177500.000000</td>\n",
       "    </tr>\n",
       "    <tr>\n",
       "      <th>Research Analyst</th>\n",
       "      <td>122965.944444</td>\n",
       "    </tr>\n",
       "    <tr>\n",
       "      <th>Research Engineer</th>\n",
       "      <td>196289.645833</td>\n",
       "    </tr>\n",
       "    <tr>\n",
       "      <th>Research Scientist</th>\n",
       "      <td>195585.535714</td>\n",
       "    </tr>\n",
       "    <tr>\n",
       "      <th>Software Data Engineer</th>\n",
       "      <td>210000.000000</td>\n",
       "    </tr>\n",
       "  </tbody>\n",
       "</table>\n",
       "<p>155 rows × 1 columns</p>\n",
       "</div>"
      ],
      "text/plain": [
       "                                                  salary\n",
       "experience_level job_title                              \n",
       "Entry-level      AI Developer              130000.000000\n",
       "                 Analytics Engineer        112412.500000\n",
       "                 Applied Scientist         178367.500000\n",
       "                 BI Data Engineer           60000.000000\n",
       "                 BI Developer              100650.000000\n",
       "...                                                  ...\n",
       "Senior           Principal Data Scientist  177500.000000\n",
       "                 Research Analyst          122965.944444\n",
       "                 Research Engineer         196289.645833\n",
       "                 Research Scientist        195585.535714\n",
       "                 Software Data Engineer    210000.000000\n",
       "\n",
       "[155 rows x 1 columns]"
      ]
     },
     "execution_count": 17,
     "metadata": {},
     "output_type": "execute_result"
    }
   ],
   "source": [
    "df = mean_sals.to_frame()\n",
    "df"
   ]
  },
  {
   "cell_type": "code",
   "execution_count": 19,
   "id": "222381aa",
   "metadata": {},
   "outputs": [
    {
     "name": "stdout",
     "output_type": "stream",
     "text": [
      "<class 'pandas.core.frame.DataFrame'>\n",
      "MultiIndex: 155 entries, ('Entry-level', 'AI Developer') to ('Senior', 'Software Data Engineer')\n",
      "Data columns (total 1 columns):\n",
      " #   Column  Non-Null Count  Dtype  \n",
      "---  ------  --------------  -----  \n",
      " 0   salary  155 non-null    float64\n",
      "dtypes: float64(1)\n",
      "memory usage: 2.5+ KB\n"
     ]
    }
   ],
   "source": [
    "df.info()"
   ]
  },
  {
   "cell_type": "code",
   "execution_count": 29,
   "id": "028d3356",
   "metadata": {},
   "outputs": [
    {
     "name": "stdout",
     "output_type": "stream",
     "text": [
      "<class 'pandas.core.frame.DataFrame'>\n",
      "Int64Index: 155 entries, 0 to 154\n",
      "Data columns (total 3 columns):\n",
      " #   Column            Non-Null Count  Dtype  \n",
      "---  ------            --------------  -----  \n",
      " 0   experience_level  155 non-null    object \n",
      " 1   job_title         155 non-null    object \n",
      " 2   salary            155 non-null    float64\n",
      "dtypes: float64(1), object(2)\n",
      "memory usage: 4.8+ KB\n"
     ]
    }
   ],
   "source": [
    "df = df.reset_index(level=['experience_level','job_title'])\n",
    "\n",
    "df = df.sort_values(['salary'], ascending=False)\n",
    "df.info()"
   ]
  },
  {
   "cell_type": "code",
   "execution_count": 31,
   "id": "c0b45b97",
   "metadata": {},
   "outputs": [
    {
     "data": {
      "text/html": [
       "<div>\n",
       "<style scoped>\n",
       "    .dataframe tbody tr th:only-of-type {\n",
       "        vertical-align: middle;\n",
       "    }\n",
       "\n",
       "    .dataframe tbody tr th {\n",
       "        vertical-align: top;\n",
       "    }\n",
       "\n",
       "    .dataframe thead th {\n",
       "        text-align: right;\n",
       "    }\n",
       "</style>\n",
       "<table border=\"1\" class=\"dataframe\">\n",
       "  <thead>\n",
       "    <tr style=\"text-align: right;\">\n",
       "      <th></th>\n",
       "      <th>experience_level</th>\n",
       "      <th>job_title</th>\n",
       "      <th>salary</th>\n",
       "    </tr>\n",
       "  </thead>\n",
       "  <tbody>\n",
       "    <tr>\n",
       "      <th>12</th>\n",
       "      <td>Entry-level</td>\n",
       "      <td>Computer Vision Engineer</td>\n",
       "      <td>220000.000000</td>\n",
       "    </tr>\n",
       "    <tr>\n",
       "      <th>42</th>\n",
       "      <td>Entry-level</td>\n",
       "      <td>Applied Scientist</td>\n",
       "      <td>178367.500000</td>\n",
       "    </tr>\n",
       "    <tr>\n",
       "      <th>57</th>\n",
       "      <td>Entry-level</td>\n",
       "      <td>Research Scientist</td>\n",
       "      <td>170482.105263</td>\n",
       "    </tr>\n",
       "    <tr>\n",
       "      <th>67</th>\n",
       "      <td>Entry-level</td>\n",
       "      <td>Machine Learning Engineer</td>\n",
       "      <td>154540.500000</td>\n",
       "    </tr>\n",
       "    <tr>\n",
       "      <th>71</th>\n",
       "      <td>Entry-level</td>\n",
       "      <td>Research Engineer</td>\n",
       "      <td>145000.000000</td>\n",
       "    </tr>\n",
       "  </tbody>\n",
       "</table>\n",
       "</div>"
      ],
      "text/plain": [
       "   experience_level                  job_title         salary\n",
       "12      Entry-level   Computer Vision Engineer  220000.000000\n",
       "42      Entry-level          Applied Scientist  178367.500000\n",
       "57      Entry-level         Research Scientist  170482.105263\n",
       "67      Entry-level  Machine Learning Engineer  154540.500000\n",
       "71      Entry-level          Research Engineer  145000.000000"
      ]
     },
     "execution_count": 31,
     "metadata": {},
     "output_type": "execute_result"
    }
   ],
   "source": [
    "entry_lvl = df[(df['experience_level']=='Entry-level')].head(5)\n",
    "entry_lvl"
   ]
  },
  {
   "cell_type": "code",
   "execution_count": 32,
   "id": "7c296cbd",
   "metadata": {},
   "outputs": [
    {
     "data": {
      "text/html": [
       "<div>\n",
       "<style scoped>\n",
       "    .dataframe tbody tr th:only-of-type {\n",
       "        vertical-align: middle;\n",
       "    }\n",
       "\n",
       "    .dataframe tbody tr th {\n",
       "        vertical-align: top;\n",
       "    }\n",
       "\n",
       "    .dataframe thead th {\n",
       "        text-align: right;\n",
       "    }\n",
       "</style>\n",
       "<table border=\"1\" class=\"dataframe\">\n",
       "  <thead>\n",
       "    <tr style=\"text-align: right;\">\n",
       "      <th></th>\n",
       "      <th>experience_level</th>\n",
       "      <th>job_title</th>\n",
       "      <th>salary</th>\n",
       "    </tr>\n",
       "  </thead>\n",
       "  <tbody>\n",
       "    <tr>\n",
       "      <th>3</th>\n",
       "      <td>Mid-level</td>\n",
       "      <td>AWS Data Architect</td>\n",
       "      <td>258000.0</td>\n",
       "    </tr>\n",
       "    <tr>\n",
       "      <th>18</th>\n",
       "      <td>Mid-level</td>\n",
       "      <td>Director of Data Science</td>\n",
       "      <td>204500.0</td>\n",
       "    </tr>\n",
       "    <tr>\n",
       "      <th>35</th>\n",
       "      <td>Mid-level</td>\n",
       "      <td>Machine Learning Infrastructure Engineer</td>\n",
       "      <td>188760.0</td>\n",
       "    </tr>\n",
       "    <tr>\n",
       "      <th>39</th>\n",
       "      <td>Mid-level</td>\n",
       "      <td>Machine Learning Software Engineer</td>\n",
       "      <td>181300.0</td>\n",
       "    </tr>\n",
       "    <tr>\n",
       "      <th>40</th>\n",
       "      <td>Mid-level</td>\n",
       "      <td>Data Infrastructure Engineer</td>\n",
       "      <td>180827.5</td>\n",
       "    </tr>\n",
       "  </tbody>\n",
       "</table>\n",
       "</div>"
      ],
      "text/plain": [
       "   experience_level                                 job_title    salary\n",
       "3         Mid-level                        AWS Data Architect  258000.0\n",
       "18        Mid-level                  Director of Data Science  204500.0\n",
       "35        Mid-level  Machine Learning Infrastructure Engineer  188760.0\n",
       "39        Mid-level        Machine Learning Software Engineer  181300.0\n",
       "40        Mid-level              Data Infrastructure Engineer  180827.5"
      ]
     },
     "execution_count": 32,
     "metadata": {},
     "output_type": "execute_result"
    }
   ],
   "source": [
    "mid_lvl = df[(df['experience_level']=='Mid-level')].head(5)\n",
    "mid_lvl"
   ]
  },
  {
   "cell_type": "code",
   "execution_count": 34,
   "id": "0a690ef6",
   "metadata": {},
   "outputs": [
    {
     "data": {
      "text/html": [
       "<div>\n",
       "<style scoped>\n",
       "    .dataframe tbody tr th:only-of-type {\n",
       "        vertical-align: middle;\n",
       "    }\n",
       "\n",
       "    .dataframe tbody tr th {\n",
       "        vertical-align: top;\n",
       "    }\n",
       "\n",
       "    .dataframe thead th {\n",
       "        text-align: right;\n",
       "    }\n",
       "</style>\n",
       "<table border=\"1\" class=\"dataframe\">\n",
       "  <thead>\n",
       "    <tr style=\"text-align: right;\">\n",
       "      <th></th>\n",
       "      <th>experience_level</th>\n",
       "      <th>job_title</th>\n",
       "      <th>salary</th>\n",
       "    </tr>\n",
       "  </thead>\n",
       "  <tbody>\n",
       "    <tr>\n",
       "      <th>0</th>\n",
       "      <td>Senior</td>\n",
       "      <td>Deep Learning Engineer</td>\n",
       "      <td>307710.000000</td>\n",
       "    </tr>\n",
       "    <tr>\n",
       "      <th>6</th>\n",
       "      <td>Senior</td>\n",
       "      <td>AI Architect</td>\n",
       "      <td>253454.545455</td>\n",
       "    </tr>\n",
       "    <tr>\n",
       "      <th>7</th>\n",
       "      <td>Senior</td>\n",
       "      <td>Head of Data</td>\n",
       "      <td>242500.000000</td>\n",
       "    </tr>\n",
       "    <tr>\n",
       "      <th>8</th>\n",
       "      <td>Senior</td>\n",
       "      <td>ML Engineer</td>\n",
       "      <td>229796.693548</td>\n",
       "    </tr>\n",
       "    <tr>\n",
       "      <th>10</th>\n",
       "      <td>Senior</td>\n",
       "      <td>Data Science Manager</td>\n",
       "      <td>223719.071429</td>\n",
       "    </tr>\n",
       "  </tbody>\n",
       "</table>\n",
       "</div>"
      ],
      "text/plain": [
       "   experience_level               job_title         salary\n",
       "0            Senior  Deep Learning Engineer  307710.000000\n",
       "6            Senior            AI Architect  253454.545455\n",
       "7            Senior            Head of Data  242500.000000\n",
       "8            Senior             ML Engineer  229796.693548\n",
       "10           Senior    Data Science Manager  223719.071429"
      ]
     },
     "execution_count": 34,
     "metadata": {},
     "output_type": "execute_result"
    }
   ],
   "source": [
    "senior_lvl = df[(df['experience_level']=='Senior')].head(5)\n",
    "senior_lvl"
   ]
  },
  {
   "cell_type": "code",
   "execution_count": 35,
   "id": "c6539937",
   "metadata": {},
   "outputs": [
    {
     "data": {
      "text/html": [
       "<div>\n",
       "<style scoped>\n",
       "    .dataframe tbody tr th:only-of-type {\n",
       "        vertical-align: middle;\n",
       "    }\n",
       "\n",
       "    .dataframe tbody tr th {\n",
       "        vertical-align: top;\n",
       "    }\n",
       "\n",
       "    .dataframe thead th {\n",
       "        text-align: right;\n",
       "    }\n",
       "</style>\n",
       "<table border=\"1\" class=\"dataframe\">\n",
       "  <thead>\n",
       "    <tr style=\"text-align: right;\">\n",
       "      <th></th>\n",
       "      <th>experience_level</th>\n",
       "      <th>job_title</th>\n",
       "      <th>salary</th>\n",
       "    </tr>\n",
       "  </thead>\n",
       "  <tbody>\n",
       "    <tr>\n",
       "      <th>1</th>\n",
       "      <td>Executive</td>\n",
       "      <td>Head of Data Science</td>\n",
       "      <td>267475.000000</td>\n",
       "    </tr>\n",
       "    <tr>\n",
       "      <th>2</th>\n",
       "      <td>Executive</td>\n",
       "      <td>Head of Machine Learning</td>\n",
       "      <td>259000.000000</td>\n",
       "    </tr>\n",
       "    <tr>\n",
       "      <th>4</th>\n",
       "      <td>Executive</td>\n",
       "      <td>Director of Data Science</td>\n",
       "      <td>256181.428571</td>\n",
       "    </tr>\n",
       "    <tr>\n",
       "      <th>5</th>\n",
       "      <td>Executive</td>\n",
       "      <td>Head of Data</td>\n",
       "      <td>255441.176471</td>\n",
       "    </tr>\n",
       "    <tr>\n",
       "      <th>9</th>\n",
       "      <td>Executive</td>\n",
       "      <td>Applied Machine Learning Engineer</td>\n",
       "      <td>225000.000000</td>\n",
       "    </tr>\n",
       "  </tbody>\n",
       "</table>\n",
       "</div>"
      ],
      "text/plain": [
       "  experience_level                          job_title         salary\n",
       "1        Executive               Head of Data Science  267475.000000\n",
       "2        Executive           Head of Machine Learning  259000.000000\n",
       "4        Executive           Director of Data Science  256181.428571\n",
       "5        Executive                       Head of Data  255441.176471\n",
       "9        Executive  Applied Machine Learning Engineer  225000.000000"
      ]
     },
     "execution_count": 35,
     "metadata": {},
     "output_type": "execute_result"
    }
   ],
   "source": [
    "exec_lvl = df[(df['experience_level']=='Executive')].head(5)\n",
    "exec_lvl"
   ]
  },
  {
   "cell_type": "code",
   "execution_count": null,
   "id": "b5e8307c",
   "metadata": {},
   "outputs": [],
   "source": []
  }
 ],
 "metadata": {
  "kernelspec": {
   "display_name": "Python 3 (ipykernel)",
   "language": "python",
   "name": "python3"
  },
  "language_info": {
   "codemirror_mode": {
    "name": "ipython",
    "version": 3
   },
   "file_extension": ".py",
   "mimetype": "text/x-python",
   "name": "python",
   "nbconvert_exporter": "python",
   "pygments_lexer": "ipython3",
   "version": "3.9.13"
  }
 },
 "nbformat": 4,
 "nbformat_minor": 5
}
